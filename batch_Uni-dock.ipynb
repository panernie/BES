{
 "cells": [
  {
   "cell_type": "code",
   "execution_count": 7,
   "metadata": {},
   "outputs": [],
   "source": [
    "import os\n",
    "import time\n",
    "import json\n",
    "import glob"
   ]
  },
  {
   "cell_type": "code",
   "execution_count": null,
   "metadata": {},
   "outputs": [],
   "source": [
    "for i in range(0,20):\n",
    "    num = i+1\n",
    "    with open(\"config1.json\", \"r\") as f:\n",
    "        config = json.load(f)\n",
    "    config[\"target\"]=f'batch_{num}'\n",
    "    liglist = glob.glob(\"./indata/pdbqt/{}/*.pdbqt\".format(config[\"target\"]))\n",
    "    with open(\"{}_ligands.txt\".format(config[\"target\"]), \"w\") as f:\n",
    "        f.write(\" \".join(liglist))\n",
    "    cmd = \"unidock --receptor {} \".format(\"./indata/{}.pdbqt\".format(\"double\"))\n",
    "    cmd += \"--ligand_index {} \".format(\"{}_ligands.txt\".format(config[\"target\"]))\n",
    "    cmd += \"--center_x {:.2f} --center_y {:.2f} --center_z {:.2f} \".format(\n",
    "        config[\"center_x\"], config[\"center_y\"], config[\"center_z\"])\n",
    "    cmd += \"--size_x 30 --size_y 30 --size_z 30 \"\n",
    "    cmd += \"--dir ./result/{} \".format(config[\"target\"])\n",
    "    cmd += \"--exhaustiveness {} \".format(config[\"nt\"])\n",
    "    cmd += \"--max_step {} \".format(config[\"ns\"])\n",
    "    cmd += \"--num_modes 9  --scoring {} --refine_step {} \".format(config[\"sf\"], config.get(\"rs\", 5))\n",
    "    cmd += \"--seed {}\".format(config.get(\"seed\", 42))\n",
    "    os.makedirs(\"result/{}\".format(config[\"target\"]), exist_ok=True)\n",
    "    with open(\"rundock.sh\", \"w\") as f:\n",
    "        f.write(cmd)\n",
    "    os.system(\"echo 'costtime'>> result/costtime.csv\")\n",
    "    st = time.time()\n",
    "    os.system(\"bash rundock.sh\")\n",
    "    os.system(\"echo '{}'>> result/costtime.csv\".format(time.time()-st))\n",
    "    for _,_,fns in os.walk(\"./result/{}\".format(config[\"target\"])):\n",
    "        break\n",
    "    csv_name = \"./result/{}_{}_nt{}_ns{}_seed{}_{}.csv\".format(config[\"target\"], config[\"sf\"], config[\"nt\"], config[\"ns\"], config[\"seed\"], config.get(\"gpu_type\", 'c12_m92_1 * NVIDIA V100').split()[-1])\n",
    "    \n",
    "    for fn in fns:\n",
    "        with open(\"result/{}/{}\".format(config[\"target\"], fn), \"r\") as f:\n",
    "            f.readline()\n",
    "            score = float(f.readline().split()[3])\n",
    "            idx = int(fn.split(\"_\")[0].replace(\"mol\", \"\"))\n",
    "            os.system(\"echo '{},{},{}'>> {}\".format(idx, \"mol\", score, csv_name))\n",
    "    "
   ]
  },
  {
   "cell_type": "code",
   "execution_count": null,
   "metadata": {},
   "outputs": [],
   "source": []
  }
 ],
 "metadata": {
  "kernelspec": {
   "display_name": "Python 3",
   "language": "python",
   "name": "python3"
  },
  "language_info": {
   "codemirror_mode": {
    "name": "ipython",
    "version": 3
   },
   "file_extension": ".py",
   "mimetype": "text/x-python",
   "name": "python",
   "nbconvert_exporter": "python",
   "pygments_lexer": "ipython3",
   "version": "3.8.5"
  }
 },
 "nbformat": 4,
 "nbformat_minor": 4
}
